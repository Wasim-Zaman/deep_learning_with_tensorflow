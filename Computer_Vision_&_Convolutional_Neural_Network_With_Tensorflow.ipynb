{
  "nbformat": 4,
  "nbformat_minor": 0,
  "metadata": {
    "colab": {
      "provenance": [],
      "authorship_tag": "ABX9TyNRZhTSvigkIshDfmg3Y40w",
      "include_colab_link": true
    },
    "kernelspec": {
      "name": "python3",
      "display_name": "Python 3"
    },
    "language_info": {
      "name": "python"
    }
  },
  "cells": [
    {
      "cell_type": "markdown",
      "metadata": {
        "id": "view-in-github",
        "colab_type": "text"
      },
      "source": [
        "<a href=\"https://colab.research.google.com/github/Wasim-Zaman/deep_learning_with_tensorflow/blob/main/Computer_Vision_%26_Convolutional_Neural_Network_With_Tensorflow.ipynb\" target=\"_parent\"><img src=\"https://colab.research.google.com/assets/colab-badge.svg\" alt=\"Open In Colab\"/></a>"
      ]
    },
    {
      "cell_type": "markdown",
      "source": [
        "# Introducation to Convolutional Neural Network and Computer Vision"
      ],
      "metadata": {
        "id": "gCkP13CRCF-8"
      }
    },
    {
      "cell_type": "markdown",
      "source": [
        "## Computer Vision Definition"
      ],
      "metadata": {
        "id": "MD_sFvdkCyDF"
      }
    },
    {
      "cell_type": "markdown",
      "source": [
        "Computer Vision is all about writing algorithms that can discover patterns in visual data such as camra of self driving car recognizes the obstacles, cars and other things coming in front."
      ],
      "metadata": {
        "id": "FMZgen1zC1zS"
      }
    },
    {
      "cell_type": "markdown",
      "source": [
        "## Getting the data before creating CNN"
      ],
      "metadata": {
        "id": "WKLedzc-DO3c"
      }
    },
    {
      "cell_type": "markdown",
      "source": [
        "In order to create a computer vision model or convolutional neural network, we need some kind of data to work on"
      ],
      "metadata": {
        "id": "1B4QGlqLDaG1"
      }
    },
    {
      "cell_type": "markdown",
      "source": [
        "## Downloading the zip data"
      ],
      "metadata": {
        "id": "f02nNwO6DYlX"
      }
    },
    {
      "cell_type": "code",
      "source": [
        "import zipfile\n",
        "\n",
        "# Downloading the data into the google colab\n",
        "!wget https://storage.googleapis.com/ztm_tf_course/food_vision/pizza_steak.zip\n",
        "\n",
        "# unzipping the data (extracting it for use)\n",
        "zip_file = zipfile.ZipFile('pizza_steak.zip')\n",
        "zip_file.extractall()"
      ],
      "metadata": {
        "colab": {
          "base_uri": "https://localhost:8080/"
        },
        "id": "oGuaWZDiEWMR",
        "outputId": "e3294f05-98bf-441e-f5f2-4604fddcab95"
      },
      "execution_count": 1,
      "outputs": [
        {
          "output_type": "stream",
          "name": "stdout",
          "text": [
            "--2022-10-23 13:54:00--  https://storage.googleapis.com/ztm_tf_course/food_vision/pizza_steak.zip\n",
            "Resolving storage.googleapis.com (storage.googleapis.com)... 108.177.112.128, 74.125.124.128, 172.217.212.128, ...\n",
            "Connecting to storage.googleapis.com (storage.googleapis.com)|108.177.112.128|:443... connected.\n",
            "HTTP request sent, awaiting response... 200 OK\n",
            "Length: 109540975 (104M) [application/zip]\n",
            "Saving to: ‘pizza_steak.zip’\n",
            "\n",
            "pizza_steak.zip     100%[===================>] 104.47M   259MB/s    in 0.4s    \n",
            "\n",
            "2022-10-23 13:54:01 (259 MB/s) - ‘pizza_steak.zip’ saved [109540975/109540975]\n",
            "\n"
          ]
        }
      ]
    },
    {
      "cell_type": "code",
      "source": [],
      "metadata": {
        "id": "-Z2n_LYZHy7J"
      },
      "execution_count": null,
      "outputs": []
    }
  ]
}