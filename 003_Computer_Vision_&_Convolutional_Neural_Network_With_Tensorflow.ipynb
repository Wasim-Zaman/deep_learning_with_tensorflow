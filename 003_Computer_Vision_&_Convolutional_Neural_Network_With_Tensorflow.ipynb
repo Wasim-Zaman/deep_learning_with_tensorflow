{
  "nbformat": 4,
  "nbformat_minor": 0,
  "metadata": {
    "colab": {
      "provenance": [],
      "collapsed_sections": [],
      "authorship_tag": "ABX9TyP6n+UHX7tkT6hbtGCo7Cjl",
      "include_colab_link": true
    },
    "kernelspec": {
      "name": "python3",
      "display_name": "Python 3"
    },
    "language_info": {
      "name": "python"
    },
    "accelerator": "GPU",
    "gpuClass": "standard"
  },
  "cells": [
    {
      "cell_type": "markdown",
      "metadata": {
        "id": "view-in-github",
        "colab_type": "text"
      },
      "source": [
        "<a href=\"https://colab.research.google.com/github/Wasim-Zaman/deep_learning_with_tensorflow/blob/main/003_Computer_Vision_%26_Convolutional_Neural_Network_With_Tensorflow.ipynb\" target=\"_parent\"><img src=\"https://colab.research.google.com/assets/colab-badge.svg\" alt=\"Open In Colab\"/></a>"
      ]
    },
    {
      "cell_type": "markdown",
      "source": [
        "# Introducation to Convolutional Neural Network and Computer Vision"
      ],
      "metadata": {
        "id": "gCkP13CRCF-8"
      }
    },
    {
      "cell_type": "markdown",
      "source": [
        "## Computer Vision Definition"
      ],
      "metadata": {
        "id": "MD_sFvdkCyDF"
      }
    },
    {
      "cell_type": "markdown",
      "source": [
        "Computer Vision is all about writing algorithms that can discover patterns in visual data such as camera of self driving car recognizes the obstacles, cars and other things coming in front."
      ],
      "metadata": {
        "id": "FMZgen1zC1zS"
      }
    },
    {
      "cell_type": "markdown",
      "source": [
        "## Getting the data before creating CNN"
      ],
      "metadata": {
        "id": "WKLedzc-DO3c"
      }
    },
    {
      "cell_type": "markdown",
      "source": [
        "In order to create a computer vision model or convolutional neural network, we need some kind of data to work on"
      ],
      "metadata": {
        "id": "1B4QGlqLDaG1"
      }
    },
    {
      "cell_type": "markdown",
      "source": [
        "## Downloading the zip data & unzipping it"
      ],
      "metadata": {
        "id": "f02nNwO6DYlX"
      }
    },
    {
      "cell_type": "code",
      "source": [
        "import zipfile\n",
        "\n",
        "# Downloading the data into the google colab\n",
        "!wget https://storage.googleapis.com/ztm_tf_course/food_vision/pizza_steak.zip\n",
        "\n",
        "# unzipping the data (extracting it for use)\n",
        "zip_file = zipfile.ZipFile('pizza_steak.zip')\n",
        "zip_file.extractall()"
      ],
      "metadata": {
        "colab": {
          "base_uri": "https://localhost:8080/"
        },
        "id": "oGuaWZDiEWMR",
        "outputId": "2487d19e-5ff2-4092-ba27-270d96b9e5c4"
      },
      "execution_count": 1,
      "outputs": [
        {
          "output_type": "stream",
          "name": "stdout",
          "text": [
            "--2022-11-10 05:57:10--  https://storage.googleapis.com/ztm_tf_course/food_vision/pizza_steak.zip\n",
            "Resolving storage.googleapis.com (storage.googleapis.com)... 74.125.20.128, 74.125.197.128, 74.125.135.128, ...\n",
            "Connecting to storage.googleapis.com (storage.googleapis.com)|74.125.20.128|:443... connected.\n",
            "HTTP request sent, awaiting response... 200 OK\n",
            "Length: 109540975 (104M) [application/zip]\n",
            "Saving to: ‘pizza_steak.zip’\n",
            "\n",
            "pizza_steak.zip     100%[===================>] 104.47M   128MB/s    in 0.8s    \n",
            "\n",
            "2022-11-10 05:57:10 (128 MB/s) - ‘pizza_steak.zip’ saved [109540975/109540975]\n",
            "\n"
          ]
        }
      ]
    },
    {
      "cell_type": "markdown",
      "source": [
        "## Inspect the data\n",
        "\n",
        "now that we have the zip file downloaded, and we have data as well. It is now time to see how the data looks like before actually writing or creating model for it to understand patterns in it"
      ],
      "metadata": {
        "id": "-Z2n_LYZHy7J"
      }
    },
    {
      "cell_type": "code",
      "source": [
        "# inspect the parent directory\n",
        "\n",
        "!ls pizza_steak # ls means list the existing directory we have"
      ],
      "metadata": {
        "colab": {
          "base_uri": "https://localhost:8080/"
        },
        "id": "BJ-W2IRQVh_J",
        "outputId": "9f55d2a2-c000-4424-da9d-64e31836fc81"
      },
      "execution_count": 2,
      "outputs": [
        {
          "output_type": "stream",
          "name": "stdout",
          "text": [
            "test  train\n"
          ]
        }
      ]
    },
    {
      "cell_type": "code",
      "source": [
        "# inspect the train folder in the parent folder \n",
        "!ls pizza_steak/train/"
      ],
      "metadata": {
        "colab": {
          "base_uri": "https://localhost:8080/"
        },
        "id": "XNcsWbIZVn7h",
        "outputId": "519e98a8-c903-48fb-eca2-c0729f630113"
      },
      "execution_count": 3,
      "outputs": [
        {
          "output_type": "stream",
          "name": "stdout",
          "text": [
            "pizza  steak\n"
          ]
        }
      ]
    },
    {
      "cell_type": "code",
      "source": [
        "# inspect the pizza inside the train folder\n",
        "!ls pizza_steak/train/pizza/"
      ],
      "metadata": {
        "colab": {
          "base_uri": "https://localhost:8080/"
        },
        "id": "SDshSn3oV2ml",
        "outputId": "0f3548ab-3610-4426-b5de-6a4199dbca6b"
      },
      "execution_count": 4,
      "outputs": [
        {
          "output_type": "stream",
          "name": "stdout",
          "text": [
            "1008104.jpg  1638227.jpg  2235981.jpg  2774899.jpg  3464027.jpg  576236.jpg\n",
            "1008144.jpg  1646974.jpg  2236914.jpg  2775763.jpg  3464858.jpg  5764.jpg\n",
            "1008844.jpg  1649108.jpg  2241448.jpg  2778214.jpg  3473991.jpg  579691.jpg\n",
            "1008941.jpg  1649276.jpg  2247711.jpg  277963.jpg   3475936.jpg  593400.jpg\n",
            "1011404.jpg  1652943.jpg  2253670.jpg  2785084.jpg  3478964.jpg  59445.jpg\n",
            "102037.jpg   1654444.jpg  2255361.jpg  2793535.jpg  3479875.jpg  596494.jpg\n",
            "1026922.jpg  1660415.jpg  2274117.jpg  27963.jpg    3479936.jpg  598381.jpg\n",
            "1029698.jpg  1663749.jpg  2279642.jpg  2800325.jpg  3484590.jpg  604977.jpg\n",
            "1033251.jpg  1665654.jpg  2280345.jpg  2811032.jpg  3493457.jpg  608085.jpg\n",
            "1035854.jpg  166823.jpg   2285269.jpg  282013.jpg   349946.jpg\t 618021.jpg\n",
            "1038357.jpg  1670471.jpg  2285942.jpg  2821034.jpg  350358.jpg\t 61822.jpg\n",
            "1040878.jpg  1671531.jpg  228778.jpg   2821048.jpg  3505182.jpg  618348.jpg\n",
            "1044524.jpg  1678284.jpg  2291093.jpg  2827938.jpg  3512070.jpg  625687.jpg\n",
            "1044789.jpg  1681043.jpg  2292986.jpg  2831983.jpg  3514408.jpg  626170.jpg\n",
            "1047561.jpg  1686908.jpg  2293453.jpg  2844278.jpg  352051.jpg\t 626902.jpg\n",
            "1048649.jpg  1687681.jpg  2301105.jpg  2849924.jpg  3530210.jpg  63480.jpg\n",
            "1054420.jpg  168879.jpg   2304021.jpg  2852301.jpg  3536393.jpg  647215.jpg\n",
            "1055065.jpg  1688838.jpg  2312987.jpg  2855844.jpg  3546278.jpg  652004.jpg\n",
            "105910.jpg   169318.jpg   23199.jpg    287000.jpg   3549765.jpg  656817.jpg\n",
            "1065078.jpg  169720.jpg   2321465.jpg  2877565.jpg  3550805.jpg  662526.jpg\n",
            "1069629.jpg  1705747.jpg  232976.jpg   2881282.jpg  3554287.jpg  663285.jpg\n",
            "1075568.jpg  1705773.jpg  2330965.jpg  2885050.jpg  3555299.jpg  665900.jpg\n",
            "1076699.jpg  1708197.jpg  233143.jpg   2885796.jpg  3557127.jpg  667309.jpg\n",
            "1083380.jpg  1717790.jpg  2331467.jpg  2902766.jpg  3574192.jpg  668944.jpg\n",
            "1084888.jpg  1742542.jpg  2361973.jpg  2916034.jpg  358178.jpg\t 670201.jpg\n",
            "1088332.jpg  1743389.jpg  2365046.jpg  2922019.jpg  3589437.jpg  674188.jpg\n",
            "1089334.jpg  175626.jpg   2382016.jpg  2924941.jpg  3595758.jpg  676432.jpg\n",
            "1097980.jpg  1757288.jpg  238843.jpg   2933332.jpg  3597955.jpg  682201.jpg\n",
            "1098197.jpg  1761451.jpg  2397868.jpg  29417.jpg    3614525.jpg  68684.jpg\n",
            "1105700.jpg  1763205.jpg  2410138.jpg  2951831.jpg  3628930.jpg  698251.jpg\n",
            "1107714.jpg  1774438.jpg  2412237.jpg  2952219.jpg  3629996.jpg  702165.jpg\n",
            "111051.jpg   1778167.jpg  2412970.jpg  2959665.jpg  3644733.jpg  704161.jpg\n",
            "1110966.jpg  1786840.jpg  2421445.jpg  2965.jpg     3653528.jpg  709273.jpg\n",
            "1123386.jpg  179165.jpg   2426686.jpg  2967846.jpg  3653643.jpg  709947.jpg\n",
            "1137400.jpg  1795316.jpg  2428085.jpg  2980131.jpg  3660716.jpg  712149.jpg\n",
            "1138936.jpg  1806491.jpg  242813.jpg   2989328.jpg  3663580.jpg  714991.jpg\n",
            "1143057.jpg  1810844.jpg  2432061.jpg  2990023.jpg  3675128.jpg  715169.jpg\n",
            "1157438.jpg  1818014.jpg  2439992.jpg  2990186.jpg  3678290.jpg  717350.jpg\n",
            "1159797.jpg  1828050.jpg  2441328.jpg  2992084.jpg  368644.jpg\t 721383.jpg\n",
            "1165451.jpg  1836888.jpg  2443498.jpg  299535.jpg   369017.jpg\t 724445.jpg\n",
            "1173913.jpg  1839077.jpg  244505.jpg   2995731.jpg  3693710.jpg  72716.jpg\n",
            "1183278.jpg  1870865.jpg  2448844.jpg  2999507.jpg  3699992.jpg  739735.jpg\n",
            "1202925.jpg  1871498.jpg  2451169.jpg  3000535.jpg  3702863.jpg  740385.jpg\n",
            "1205154.jpg  1877103.jpg  2456207.jpg  300869.jpg   3703769.jpg  741491.jpg\n",
            "1207213.jpg  1878005.jpg  2462190.jpg  3018077.jpg  3704879.jpg  741883.jpg\n",
            "1209973.jpg  1881674.jpg  2467990.jpg  3020376.jpg  3705479.jpg  755968.jpg\n",
            "121834.jpg   1888911.jpg  2468499.jpg  3023774.jpg  370643.jpg\t 759025.jpg\n",
            "12301.jpg    1890444.jpg  2470671.jpg  302591.jpg   3712344.jpg  759873.jpg\n",
            "1234172.jpg  1895479.jpg  2471646.jpg  3039549.jpg  3713343.jpg  762788.jpg\n",
            "1243215.jpg  1897129.jpg  2473559.jpg  3042454.jpg  372275.jpg\t 764429.jpg\n",
            "1245628.jpg  1898723.jpg  2476468.jpg  3055697.jpg  3742272.jpg  765000.jpg\n",
            "1247645.jpg  1899562.jpg  2481333.jpg  3057192.jpg  3745884.jpg  765799.jpg\n",
            "1248346.jpg  1899785.jpg  248252.jpg   3063955.jpg  3749515.jpg  768276.jpg\n",
            "1248478.jpg  1900585.jpg  2486277.jpg  3066951.jpg  375401.jpg\t 771878.jpg\n",
            "1260554.jpg  1906287.jpg  2487039.jpg  307677.jpg   3763593.jpg  774142.jpg\n",
            "1267359.jpg  1907713.jpg  2490163.jpg  3082068.jpg  376417.jpg\t 77677.jpg\n",
            "1269960.jpg  1912976.jpg  2491110.jpg  3082443.jpg  3766053.jpg  786995.jpg\n",
            "1270986.jpg  1914969.jpg  2492287.jpg  3084957.jpg  3766476.jpg  790432.jpg\n",
            "12718.jpg    1915343.jpg  2493954.jpg  3102271.jpg  3767723.jpg  790841.jpg\n",
            "1284978.jpg  1916846.jpg  2501636.jpg  3105724.jpg  3767773.jpg  792093.jpg\n",
            "1285298.jpg  1934355.jpg  2501961.jpg  3109486.jpg  3772054.jpg  799874.jpg\n",
            "1287004.jpg  1944600.jpg  2502234.jpg  312479.jpg   3778801.jpg  803243.jpg\n",
            "1289139.jpg  1947572.jpg  2508157.jpg  3128495.jpg  3790235.jpg  807128.jpg\n",
            "129536.jpg   1950499.jpg  2511911.jpg  3148119.jpg  3793314.jpg  809024.jpg\n",
            "1312761.jpg  1951130.jpg  2516510.jpg  3164761.jpg  3798959.jpg  812349.jpg\n",
            "131561.jpg   1958364.jpg  2519291.jpg  3168266.jpg  3803596.jpg  816577.jpg\n",
            "132484.jpg   1964051.jpg  2529205.jpg  3170114.jpg  3821701.jpg  816729.jpg\n",
            "132554.jpg   1968947.jpg  253127.jpg   3173779.jpg  3822139.jpg  819547.jpg\n",
            "1325918.jpg  1973447.jpg  2534774.jpg  317861.jpg   3826377.jpg  823104.jpg\n",
            "1326065.jpg  1980167.jpg  2556273.jpg  3185774.jpg  382829.jpg\t 82578.jpg\n",
            "1327402.jpg  1981348.jpg  2557340.jpg  3191035.jpg  3830773.jpg  82772.jpg\n",
            "1336882.jpg  1984976.jpg  2560539.jpg  3193599.jpg  38349.jpg\t 829229.jpg\n",
            "134462.jpg   1987634.jpg  2569760.jpg  3196721.jpg  384215.jpg\t 83538.jpg\n",
            "1344966.jpg  1988629.jpg  2570329.jpg  32004.jpg    3845083.jpg  835833.jpg\n",
            "1351146.jpg  199019.jpg   2572958.jpg  320570.jpg   3860002.jpg  839461.jpg\n",
            "1351631.jpg  1998483.jpg  2574896.jpg  3207504.jpg  3862243.jpg  853441.jpg\n",
            "1370319.jpg  2005870.jpg  2576168.jpg  3214153.jpg  3864383.jpg  857888.jpg\n",
            "1383291.jpg  2010437.jpg  2577373.jpg  3256974.jpg  3871666.jpg  861771.jpg\n",
            "1384464.jpg  2014717.jpg  2577377.jpg  3264148.jpg  3873326.jpg  866834.jpg\n",
            "138855.jpg   2019441.jpg  2581276.jpg  32666.jpg    387697.jpg\t 868789.jpg\n",
            "1390308.jpg  2019583.jpg  2584745.jpg  326809.jpg   3882444.jpg  869763.jpg\n",
            "13983.jpg    2021516.jpg  2587918.jpg  3269634.jpg  3906901.jpg  872094.jpg\n",
            "1399531.jpg  2026009.jpg  2587921.jpg  327415.jpg   3910117.jpg  874288.jpg\n",
            "140031.jpg   2032236.jpg  259449.jpg   3281494.jpg  3913912.jpg  875262.jpg\n",
            "1403878.jpg  2035248.jpg  2602611.jpg  329302.jpg   3917951.jpg  875856.jpg\n",
            "1407753.jpg  203831.jpg   2605343.jpg  3297714.jpg  393658.jpg\t 877881.jpg\n",
            "1412034.jpg  2044732.jpg  2606727.jpg  3312584.jpg  394049.jpg\t 878377.jpg\n",
            "1413289.jpg  2077999.jpg  262133.jpg   3314176.jpg  394590.jpg\t 884986.jpg\n",
            "141507.jpg   2078141.jpg  2621534.jpg  3314535.jpg  395034.jpg\t 886505.jpg\n",
            "1423515.jpg  2078208.jpg  2622336.jpg  332231.jpg   395960.jpg\t 8917.jpg\n",
            "1425089.jpg  2091857.jpg  2639094.jpg  3324050.jpg  398565.jpg\t 893644.jpg\n",
            "1426781.jpg  2097315.jpg  2640502.jpg  3326344.jpg  401701.jpg\t 896448.jpg\n",
            "143453.jpg   2098014.jpg  2664219.jpg  3333459.jpg  401979.jpg\t 898119.jpg\n",
            "1454995.jpg  2104569.jpg  2666066.jpg  3337370.jpg  40231.jpg\t 898303.jpg\n",
            "1468795.jpg  2110257.jpg  2667244.jpg  3338774.jpg  403431.jpg\t 898843.jpg\n",
            "147785.jpg   2112757.jpg  2667255.jpg  333985.jpg   413710.jpg\t 89892.jpg\n",
            "1499661.jpg  2121603.jpg  2667824.jpg  3342039.jpg  413789.jpg\t 899818.jpg\n",
            "1504421.jpg  2126352.jpg  2670730.jpg  3366256.jpg  419516.jpg\t 899959.jpg\n",
            "1504719.jpg  2126709.jpg  2671508.jpg  3367113.jpg  422261.jpg\t 904938.jpg\n",
            "1507039.jpg  2135635.jpg  2674351.jpg  337272.jpg   424288.jpg\t 910419.jpg\n",
            "1512514.jpg  2137341.jpg  2687575.jpg  3376519.jpg  430118.jpg\t 917774.jpg\n",
            "1524599.jpg  2142812.jpg  2693334.jpg  3379038.jpg  44449.jpg\t 918506.jpg\n",
            "1524655.jpg  214728.jpg   269396.jpg   3382880.jpg  448519.jpg\t 920219.jpg\n",
            "1535273.jpg  2148129.jpg  2694223.jpg  3383977.jpg  452989.jpg\t 920595.jpg\n",
            "1544197.jpg  2154394.jpg  2697971.jpg  3384856.jpg  464388.jpg\t 926046.jpg\n",
            "1552253.jpg  2155475.jpg  2700543.jpg  338838.jpg   465454.jpg\t 928663.jpg\n",
            "1553353.jpg  2155735.jpg  2702825.jpg  3391208.jpg  467986.jpg\t 928670.jpg\n",
            "1571074.jpg  2161241.jpg  2705497.jpg  3392649.jpg  474493.jpg\t 929067.jpg\n",
            "1572608.jpg  2164255.jpg  2707814.jpg  3392671.jpg  489347.jpg\t 937915.jpg\n",
            "1573562.jpg  216720.jpg   2711828.jpg  3393898.jpg  489532.jpg\t 938821.jpg\n",
            "1576248.jpg  2172850.jpg  271592.jpg   3397336.jpg  495892.jpg\t 93961.jpg\n",
            "1577871.jpg  218142.jpg   271675.jpg   3398309.jpg  513754.jpg\t 947246.jpg\n",
            "1584379.jpg  218711.jpg   271779.jpg   3399610.jpg  514014.jpg\t 951953.jpg\n",
            "1593665.jpg  2187466.jpg  2722646.jpg  3401720.jpg  517902.jpg\t 959901.jpg\n",
            "1593835.jpg  2188452.jpg  2723529.jpg  3401767.jpg  518527.jpg\t 962785.jpg\n",
            "1600705.jpg  2190018.jpg  2739039.jpg  340814.jpg   527199.jpg\t 966644.jpg\n",
            "1608000.jpg  220190.jpg   2739100.jpg  3425999.jpg  52934.jpg\t 967694.jpg\n",
            "1617418.jpg  220910.jpg   2742044.jpg  3426946.jpg  532970.jpg\t 970073.jpg\n",
            "1620560.jpg  221048.jpg   274945.jpg   3427699.jpg  543556.jpg\t 972000.jpg\n",
            "1620761.jpg  2215531.jpg  2754150.jpg  3434372.jpg  54461.jpg\t 976382.jpg\n",
            "1625147.jpg  2217956.jpg  2755875.jpg  3441394.jpg  54540.jpg\t 979955.jpg\n",
            "163039.jpg   2224099.jpg  2757327.jpg  3443136.jpg  545561.jpg\t 979998.jpg\n",
            "1633289.jpg  2224828.jpg  2760984.jpg  3456440.jpg  56449.jpg\t 985164.jpg\n",
            "1635386.jpg  2228322.jpg  276803.jpg   3462250.jpg  568383.jpg\t 98617.jpg\n",
            "1636299.jpg  2231356.jpg  2769168.jpg  34632.jpg    568995.jpg\t 998719.jpg\n"
          ]
        }
      ]
    },
    {
      "cell_type": "markdown",
      "source": [
        "Wow.... It means that we have so many pictures available, let's now see how many images we have in each single directory"
      ],
      "metadata": {
        "id": "DnYwFr3ZWMW5"
      }
    },
    {
      "cell_type": "code",
      "source": [
        "# Walking through all the directories and all the files inside the directory\n",
        "import os\n",
        "\n",
        "# !ls pizza_steak/train/pizza/\n",
        "# !ls pizza_steak/train/steak/\n",
        "# !ls pizza_steak/test/pizza/\n",
        "# !ls pizza_steak/test/steak/\n",
        "\n",
        "for dir_path, dir_name, file_name in os.walk('pizza_steak'):\n",
        "  print (f\"There are {len(dir_name)} directories and {len(file_name)} files in {dir_path} .\") "
      ],
      "metadata": {
        "colab": {
          "base_uri": "https://localhost:8080/"
        },
        "id": "epZMR3J0WaC5",
        "outputId": "7fd5d0d9-80ff-4b99-ddc1-4bf43962db4b"
      },
      "execution_count": 5,
      "outputs": [
        {
          "output_type": "stream",
          "name": "stdout",
          "text": [
            "There are 2 directories and 0 files in pizza_steak .\n",
            "There are 2 directories and 0 files in pizza_steak/test .\n",
            "There are 0 directories and 250 files in pizza_steak/test/steak .\n",
            "There are 0 directories and 250 files in pizza_steak/test/pizza .\n",
            "There are 2 directories and 0 files in pizza_steak/train .\n",
            "There are 0 directories and 750 files in pizza_steak/train/steak .\n",
            "There are 0 directories and 750 files in pizza_steak/train/pizza .\n"
          ]
        }
      ]
    },
    {
      "cell_type": "markdown",
      "source": [
        "Besides this, we can inspect images inside the directory in another way as well."
      ],
      "metadata": {
        "id": "4Y86g2fOYQk3"
      }
    },
    {
      "cell_type": "code",
      "source": [
        "# Another way to see the number of images\n",
        "number_of_pizza_images = len(os.listdir('pizza_steak/train/pizza'))\n",
        "print(number_of_pizza_images)"
      ],
      "metadata": {
        "colab": {
          "base_uri": "https://localhost:8080/"
        },
        "id": "azJAlNhx4eW5",
        "outputId": "16a207dd-8436-4bf3-abce-760b9cc28522"
      },
      "execution_count": 6,
      "outputs": [
        {
          "output_type": "stream",
          "name": "stdout",
          "text": [
            "750\n"
          ]
        }
      ]
    },
    {
      "cell_type": "markdown",
      "source": [
        "# Visualizing Images\n",
        "\n",
        "The best way to inspect the images is to plot random images.\n",
        "but before that we need to identify classes programmaticaly.\n",
        "Let's see what we are trying to say...."
      ],
      "metadata": {
        "id": "XNITpP5m5jmY"
      }
    },
    {
      "cell_type": "code",
      "source": [
        "import pathlib\n",
        "import numpy as np\n",
        "\n",
        "data_dir = pathlib.Path('pizza_steak/train')   # directory path to train data\n",
        "print (data_dir)\n",
        "\n",
        "# let's create a list of classes programmatically\n",
        "class_names = np.array(sorted([item.name for item in data_dir.glob(\"*\")]))\n",
        "print (class_names)"
      ],
      "metadata": {
        "colab": {
          "base_uri": "https://localhost:8080/"
        },
        "id": "hV02fKvC52JL",
        "outputId": "e04a25be-c8c2-4a3f-828c-6277be744774"
      },
      "execution_count": 7,
      "outputs": [
        {
          "output_type": "stream",
          "name": "stdout",
          "text": [
            "pizza_steak/train\n",
            "['pizza' 'steak']\n"
          ]
        }
      ]
    },
    {
      "cell_type": "markdown",
      "source": [
        "## Visualizing random image"
      ],
      "metadata": {
        "id": "6dbvXkOC6rEP"
      }
    },
    {
      "cell_type": "code",
      "source": [
        "def plot_random_image(root_dir, test_or_train, class_name):\n",
        "  '''\n",
        "  Accepts arguments as String then plots random image and return that image as well\n",
        "  '''\n",
        "  import matplotlib.pyplot as plt\n",
        "  import matplotlib.image as mpimg\n",
        "  import random\n",
        "  import os\n",
        "\n",
        "  # Setting the target directory from where the image would plot\n",
        "  target_dir = root_dir + '/' + test_or_train + '/' + class_name\n",
        "\n",
        "  # picking the random image out of all the images\n",
        "  rand_image = random.choice(os.listdir(target_dir))\n",
        "\n",
        "  # Reading the image from target file into the np array\n",
        "  img = mpimg.imread(target_dir + '/' + rand_image)\n",
        "\n",
        "  # Ploting the image using matplotlib\n",
        "  # plt.figure(figsize=(7, 7))\n",
        "  plt.imshow(img)\n",
        "  plt.title(class_name)\n",
        "  plt.axis('off')\n",
        "  \n",
        "  print (f\"The shape of the image is: {img.shape}\")\n",
        "\n",
        "  # returning the image to the called function\n",
        "  return img\n",
        "\n"
      ],
      "metadata": {
        "id": "bh2jHOSb_0EY"
      },
      "execution_count": 8,
      "outputs": []
    },
    {
      "cell_type": "code",
      "source": [
        "img = plot_random_image(root_dir='pizza_steak', test_or_train='train', class_name='pizza')"
      ],
      "metadata": {
        "colab": {
          "base_uri": "https://localhost:8080/",
          "height": 281
        },
        "id": "RyW--2AaLS6b",
        "outputId": "a5ca612a-fbaa-48ce-d38b-17fb94b5c0f6"
      },
      "execution_count": 9,
      "outputs": [
        {
          "output_type": "stream",
          "name": "stdout",
          "text": [
            "The shape of the image is: (512, 512, 3)\n"
          ]
        },
        {
          "output_type": "display_data",
          "data": {
            "text/plain": [
              "<Figure size 432x288 with 1 Axes>"
            ],
            "image/png": "[encoded data removed]"
          },
          "metadata": {
            "needs_background": "light"
          }
        }
      ]
    },
    {
      "cell_type": "markdown",
      "source": [
        "The reason why we returned the img is because we want an image in tensor.\n",
        "Because these tensors would be later on used as an input to our model"
      ],
      "metadata": {
        "id": "enJ13W_xQlNR"
      }
    },
    {
      "cell_type": "code",
      "source": [
        "import tensorflow as tf\n",
        "\n",
        "# converting img (array) into tensor\n",
        "tf.constant(img)"
      ],
      "metadata": {
        "colab": {
          "base_uri": "https://localhost:8080/"
        },
        "id": "JKujZyUfVHZv",
        "outputId": "643cf5fb-fe97-479b-d8fb-12e088d7e232"
      },
      "execution_count": 10,
      "outputs": [
        {
          "output_type": "execute_result",
          "data": {
            "text/plain": [
              "<tf.Tensor: shape=(512, 512, 3), dtype=uint8, numpy=\n",
              "array([[[180, 151, 121],\n",
              "        [175, 146, 116],\n",
              "        [175, 146, 116],\n",
              "        ...,\n",
              "        [197, 107,  72],\n",
              "        [196, 106,  71],\n",
              "        [198, 108,  73]],\n",
              "\n",
              "       [[148, 118,  92],\n",
              "        [142, 112,  86],\n",
              "        [142, 112,  86],\n",
              "        ...,\n",
              "        [204, 114,  80],\n",
              "        [204, 115,  81],\n",
              "        [203, 114,  80]],\n",
              "\n",
              "       [[121,  90,  70],\n",
              "        [111,  83,  62],\n",
              "        [110,  82,  61],\n",
              "        ...,\n",
              "        [196, 107,  75],\n",
              "        [195, 109,  76],\n",
              "        [192, 106,  73]],\n",
              "\n",
              "       ...,\n",
              "\n",
              "       [[ 82,  56,  65],\n",
              "        [ 94,  68,  77],\n",
              "        [ 99,  74,  78],\n",
              "        ...,\n",
              "        [158,  36,  31],\n",
              "        [157,  35,  30],\n",
              "        [157,  34,  29]],\n",
              "\n",
              "       [[ 81,  55,  64],\n",
              "        [ 90,  65,  71],\n",
              "        [ 96,  71,  75],\n",
              "        ...,\n",
              "        [166,  44,  39],\n",
              "        [157,  34,  29],\n",
              "        [150,  27,  22]],\n",
              "\n",
              "       [[ 84,  57,  66],\n",
              "        [ 88,  63,  69],\n",
              "        [ 95,  70,  74],\n",
              "        ...,\n",
              "        [164,  42,  37],\n",
              "        [158,  35,  30],\n",
              "        [159,  36,  31]]], dtype=uint8)>"
            ]
          },
          "metadata": {},
          "execution_count": 10
        }
      ]
    },
    {
      "cell_type": "markdown",
      "source": [
        "## Meaning of the shape of the img"
      ],
      "metadata": {
        "id": "ibD1x8TbVRI9"
      }
    },
    {
      "cell_type": "code",
      "source": [
        "img.shape"
      ],
      "metadata": {
        "colab": {
          "base_uri": "https://localhost:8080/"
        },
        "id": "-b9lUFX0Z_KG",
        "outputId": "d1b685b0-25e3-43df-8c37-3249484b3331"
      },
      "execution_count": 11,
      "outputs": [
        {
          "output_type": "execute_result",
          "data": {
            "text/plain": [
              "(512, 512, 3)"
            ]
          },
          "metadata": {},
          "execution_count": 11
        }
      ]
    },
    {
      "cell_type": "markdown",
      "source": [
        "The img is nothing but 512 by 512 (in pixel) image and the 3 in the shape represents three color channels (red, green, blue)\n",
        "\n",
        "Each and every pixel in width 512 and height 512 shows some kind of three color combination.\n",
        "\n",
        "\n",
        "(512, 512, 3) \n",
        "The first 512 shows the height in pixel, second shows the width in pixel and third shows three color channels (r,g, b)."
      ],
      "metadata": {
        "id": "AEjxbM3CaAbl"
      }
    },
    {
      "cell_type": "markdown",
      "source": [
        "# Data preprocessing (Normalization/Scaling)"
      ],
      "metadata": {
        "id": "M0vzqAumax6U"
      }
    },
    {
      "cell_type": "markdown",
      "source": [
        "Often before creating a neural network, our first step is data preprocessing.\n",
        "This means that before actually feeding the data into the network, first we convert it into tensors (which we already done), then our next step is to normalize the data (means converting each and every element in the data either into 1 or into 0)\n",
        "\n",
        "For that let's complete our preprocessing step **Let's preprocess the data**"
      ],
      "metadata": {
        "id": "TPCdfAgKbzsH"
      }
    },
    {
      "cell_type": "code",
      "source": [
        "img_norm = img/255."
      ],
      "metadata": {
        "id": "ChbffbQKcXiV"
      },
      "execution_count": 12,
      "outputs": []
    },
    {
      "cell_type": "markdown",
      "source": [
        "Since our image is just a color combination of three colors in r,g,b in other words each and every pixel has a value in between 0 and 255 (r,g,b range)"
      ],
      "metadata": {
        "id": "k9nbC1QDcdgE"
      }
    },
    {
      "cell_type": "code",
      "source": [
        "img_norm"
      ],
      "metadata": {
        "colab": {
          "base_uri": "https://localhost:8080/"
        },
        "id": "_nhT8VbzcxZE",
        "outputId": "14ec62dc-fcb9-478b-c7d0-f42d01f4543f"
      },
      "execution_count": 13,
      "outputs": [
        {
          "output_type": "execute_result",
          "data": {
            "text/plain": [
              "array([[[0.70588235, 0.59215686, 0.4745098 ],\n",
              "        [0.68627451, 0.57254902, 0.45490196],\n",
              "        [0.68627451, 0.57254902, 0.45490196],\n",
              "        ...,\n",
              "        [0.77254902, 0.41960784, 0.28235294],\n",
              "        [0.76862745, 0.41568627, 0.27843137],\n",
              "        [0.77647059, 0.42352941, 0.28627451]],\n",
              "\n",
              "       [[0.58039216, 0.4627451 , 0.36078431],\n",
              "        [0.55686275, 0.43921569, 0.3372549 ],\n",
              "        [0.55686275, 0.43921569, 0.3372549 ],\n",
              "        ...,\n",
              "        [0.8       , 0.44705882, 0.31372549],\n",
              "        [0.8       , 0.45098039, 0.31764706],\n",
              "        [0.79607843, 0.44705882, 0.31372549]],\n",
              "\n",
              "       [[0.4745098 , 0.35294118, 0.2745098 ],\n",
              "        [0.43529412, 0.3254902 , 0.24313725],\n",
              "        [0.43137255, 0.32156863, 0.23921569],\n",
              "        ...,\n",
              "        [0.76862745, 0.41960784, 0.29411765],\n",
              "        [0.76470588, 0.42745098, 0.29803922],\n",
              "        [0.75294118, 0.41568627, 0.28627451]],\n",
              "\n",
              "       ...,\n",
              "\n",
              "       [[0.32156863, 0.21960784, 0.25490196],\n",
              "        [0.36862745, 0.26666667, 0.30196078],\n",
              "        [0.38823529, 0.29019608, 0.30588235],\n",
              "        ...,\n",
              "        [0.61960784, 0.14117647, 0.12156863],\n",
              "        [0.61568627, 0.1372549 , 0.11764706],\n",
              "        [0.61568627, 0.13333333, 0.11372549]],\n",
              "\n",
              "       [[0.31764706, 0.21568627, 0.25098039],\n",
              "        [0.35294118, 0.25490196, 0.27843137],\n",
              "        [0.37647059, 0.27843137, 0.29411765],\n",
              "        ...,\n",
              "        [0.65098039, 0.17254902, 0.15294118],\n",
              "        [0.61568627, 0.13333333, 0.11372549],\n",
              "        [0.58823529, 0.10588235, 0.08627451]],\n",
              "\n",
              "       [[0.32941176, 0.22352941, 0.25882353],\n",
              "        [0.34509804, 0.24705882, 0.27058824],\n",
              "        [0.37254902, 0.2745098 , 0.29019608],\n",
              "        ...,\n",
              "        [0.64313725, 0.16470588, 0.14509804],\n",
              "        [0.61960784, 0.1372549 , 0.11764706],\n",
              "        [0.62352941, 0.14117647, 0.12156863]]])"
            ]
          },
          "metadata": {},
          "execution_count": 13
        }
      ]
    },
    {
      "cell_type": "markdown",
      "source": [
        "Since this is just a one image that we normalized, but what we need is to convert all of the images into normalized form. Which means that we only converted pixel of one image into normalized form, what we need to do is to preprocess all the image's pixels which is really not a difficult but time and memory consumig part to do. Because our data is not inside a python variable, it is inside the directories and for normalizing it, we will need to grab one by one image from the directory, put it into the variable and then normalize it.\n",
        "\n",
        "**Instead of that** let's do something new. Let's import a library that will do same task for us but in batches."
      ],
      "metadata": {
        "id": "nXBUQ0wmq-9Y"
      }
    },
    {
      "cell_type": "markdown",
      "source": [
        "we are going to:\n",
        "\n",
        "* Load the data from the directory\n",
        "* Preprocess the data (convert each pixel of the image into 0/1 also known as normalization/scaling)\n",
        "* Create a CNN model\n",
        "* Compile the model\n",
        "* Fit the model to our train data"
      ],
      "metadata": {
        "id": "dtbKq-kAQOAg"
      }
    },
    {
      "cell_type": "markdown",
      "source": [
        "# Creating a first CNN model"
      ],
      "metadata": {
        "id": "nvnUcyIoQkJo"
      }
    },
    {
      "cell_type": "code",
      "source": [
        "# importing a data generator library for images\n",
        "from tensorflow.keras.preprocessing.image import ImageDataGenerator\n",
        "\n",
        "# setting the random seed\n",
        "tf.random.set_seed(36)\n",
        "\n",
        "# Preprocessing the data (converting each and every pixel of the data into normalized/scalable form)\n",
        "\n",
        "# generate normalized training data\n",
        "train_datagen = ImageDataGenerator(rescale=1./255)  # as rgb ranges upto 255\n",
        "\n",
        "# generate normalized valid data \n",
        "valid_datagen = ImageDataGenerator(rescale=1./255)\n",
        "\n",
        "# Setting up the directories\n",
        "train_dir = '/content/pizza_steak/train'\n",
        "test_dir = '/content/pizza_steak/test'\n",
        "\n",
        "# import data from the selected directories and turn it into tensors.\n",
        "train_data = train_datagen.flow_from_directory(train_dir, \n",
        "                                               batch_size=32, \n",
        "                                               seed=36, \n",
        "                                               color_mode='rgb', \n",
        "                                               class_mode='binary', \n",
        "                                               target_size=(224, 224),)\n",
        "\n",
        "valid_data = valid_datagen.flow_from_directory(test_dir,\n",
        "                                               batch_size=32,\n",
        "                                               color_mode='rgb',\n",
        "                                               class_mode='binary',\n",
        "                                               target_size=(224, 224),\n",
        "                                               seed=36)\n"
      ],
      "metadata": {
        "colab": {
          "base_uri": "https://localhost:8080/"
        },
        "id": "0Rm02zr_4-ly",
        "outputId": "36f44d24-df62-4253-e969-2d4fa44a8764"
      },
      "execution_count": 14,
      "outputs": [
        {
          "output_type": "stream",
          "name": "stdout",
          "text": [
            "Found 1500 images belonging to 2 classes.\n",
            "Found 500 images belonging to 2 classes.\n"
          ]
        }
      ]
    },
    {
      "cell_type": "code",
      "source": [
        "from tensorflow.python.framework.func_graph import flatten\n",
        "# Create a CNN model same a tiny VGG (containing 2 conv layers, one maxpool layer)\n",
        "model_1 = tf.keras.Sequential([\n",
        "    # input layer.\n",
        "    tf.keras.layers.Conv2D(filters=10, \n",
        "                           kernel_size=(3, 3),\n",
        "                           input_shape=(224, 224, 3),\n",
        "                           activation='relu',),\n",
        "    tf.keras.layers.Conv2D(10, (3,3), activation='relu'),  # same layer as above except the input shape.\n",
        "    # maxpooling layer\n",
        "    tf.keras.layers.MaxPool2D(pool_size=(2,2), padding='valid'),\n",
        "\n",
        "    tf.keras.layers.Conv2D(filters=10, kernel_size=(3,3), activation='relu'),\n",
        "    tf.keras.layers.Conv2D(filters=10, kernel_size=(3,3), activation='relu'),\n",
        "    tf.keras.layers.MaxPool2D(pool_size=(2,2), padding='valid'),\n",
        "\n",
        "    tf.keras.layers.Conv2D(filters=10, kernel_size=(3, 3), activation='relu'),\n",
        "    tf.keras.layers.Conv2D(filters=10, kernel_size=(3, 3), activation='relu'),\n",
        "    tf.keras.layers.MaxPool2D(pool_size=(2, 2), padding='valid',),\n",
        "\n",
        "\n",
        "    # flatten the output\n",
        "    tf.keras.layers.Flatten(),\n",
        "\n",
        "    # output layer\n",
        "    tf.keras.layers.Dense(1, activation='sigmoid'),\n",
        "    \n",
        "])\n",
        "\n",
        "# compiling the model\n",
        "model_1.compile(\n",
        "    loss='binary_crossentropy',\n",
        "    optimizer=tf.keras.optimizers.Adam(),\n",
        "    metrics=['accuracy'],\n",
        ")\n",
        "\n",
        "# fitting the model on the training data\n",
        "history_1 = model_1.fit(train_data,\n",
        "                        epochs=5,\n",
        "                        steps_per_epoch=len(train_data),\n",
        "                        validation_data=valid_data,\n",
        "                        validation_steps=len(valid_data),\n",
        "                        )"
      ],
      "metadata": {
        "colab": {
          "base_uri": "https://localhost:8080/"
        },
        "id": "A5mCOB5H_7Ke",
        "outputId": "1164b3f4-9a93-4b0c-8c11-41648b32b9a3"
      },
      "execution_count": 15,
      "outputs": [
        {
          "output_type": "stream",
          "name": "stdout",
          "text": [
            "Epoch 1/5\n",
            "47/47 [==============================] - 25s 348ms/step - loss: 0.6023 - accuracy: 0.6753 - val_loss: 0.4184 - val_accuracy: 0.8220\n",
            "Epoch 2/5\n",
            "47/47 [==============================] - 12s 254ms/step - loss: 0.4490 - accuracy: 0.8033 - val_loss: 0.4309 - val_accuracy: 0.7980\n",
            "Epoch 3/5\n",
            "47/47 [==============================] - 10s 215ms/step - loss: 0.4310 - accuracy: 0.8067 - val_loss: 0.3889 - val_accuracy: 0.8340\n",
            "Epoch 4/5\n",
            "47/47 [==============================] - 9s 193ms/step - loss: 0.4167 - accuracy: 0.8067 - val_loss: 0.3905 - val_accuracy: 0.8120\n",
            "Epoch 5/5\n",
            "47/47 [==============================] - 9s 194ms/step - loss: 0.4164 - accuracy: 0.8167 - val_loss: 0.4241 - val_accuracy: 0.8220\n"
          ]
        }
      ]
    },
    {
      "cell_type": "code",
      "source": [
        "# checking the summary of model_1\n",
        "model_1.summary()"
      ],
      "metadata": {
        "colab": {
          "base_uri": "https://localhost:8080/"
        },
        "id": "YsyUW2hhNI0c",
        "outputId": "fbab2b13-cc0c-49e9-9df0-35b584545ead"
      },
      "execution_count": 19,
      "outputs": [
        {
          "output_type": "stream",
          "name": "stdout",
          "text": [
            "Model: \"sequential\"\n",
            "_________________________________________________________________\n",
            " Layer (type)                Output Shape              Param #   \n",
            "=================================================================\n",
            " conv2d (Conv2D)             (None, 222, 222, 10)      280       \n",
            "                                                                 \n",
            " conv2d_1 (Conv2D)           (None, 220, 220, 10)      910       \n",
            "                                                                 \n",
            " max_pooling2d (MaxPooling2D  (None, 110, 110, 10)     0         \n",
            " )                                                               \n",
            "                                                                 \n",
            " conv2d_2 (Conv2D)           (None, 108, 108, 10)      910       \n",
            "                                                                 \n",
            " conv2d_3 (Conv2D)           (None, 106, 106, 10)      910       \n",
            "                                                                 \n",
            " max_pooling2d_1 (MaxPooling  (None, 53, 53, 10)       0         \n",
            " 2D)                                                             \n",
            "                                                                 \n",
            " conv2d_4 (Conv2D)           (None, 51, 51, 10)        910       \n",
            "                                                                 \n",
            " conv2d_5 (Conv2D)           (None, 49, 49, 10)        910       \n",
            "                                                                 \n",
            " max_pooling2d_2 (MaxPooling  (None, 24, 24, 10)       0         \n",
            " 2D)                                                             \n",
            "                                                                 \n",
            " flatten (Flatten)           (None, 5760)              0         \n",
            "                                                                 \n",
            " dense (Dense)               (None, 1)                 5761      \n",
            "                                                                 \n",
            "=================================================================\n",
            "Total params: 10,591\n",
            "Trainable params: 10,591\n",
            "Non-trainable params: 0\n",
            "_________________________________________________________________\n"
          ]
        }
      ]
    },
    {
      "cell_type": "markdown",
      "source": [
        "# Creating a same model like a previous section\n",
        "\n",
        "Let's now try if our previous model can find patterns in image data, let's replicate the same model we have created before with the help of tensorflow playground"
      ],
      "metadata": {
        "id": "JSWtuCm3qPfz"
      }
    },
    {
      "cell_type": "code",
      "source": [
        "tf.random.set_seed(36)\n",
        "\n",
        "# creating a model\n",
        "model_2 = tf.keras.Sequential([\n",
        "    tf.keras.layers.Flatten(input_shape=(224, 224, 3)),\n",
        "    tf.keras.layers.Dense(4, activation='relu'),\n",
        "    tf.keras.layers.Dense(4, activation='relu'),\n",
        "    tf.keras.layers.Dense(1, activation='sigmoid'),\n",
        "])\n",
        "\n",
        "# compile the model\n",
        "model_2.compile(\n",
        "    loss=tf.keras.losses.BinaryCrossentropy(),\n",
        "    optimizer=tf.keras.optimizers.Adam(),\n",
        "    metrics=['accuracy'],\n",
        ")\n",
        "\n",
        "# fit the model on the training data\n",
        "model_2.fit(train_data,\n",
        "            epochs=5,\n",
        "            validation_data=valid_data,\n",
        "            steps_per_epoch=len(train_data),\n",
        "            validation_steps=len(valid_data))"
      ],
      "metadata": {
        "colab": {
          "base_uri": "https://localhost:8080/"
        },
        "id": "IGejYqoIHwP4",
        "outputId": "04957adf-53ff-44a2-a8c3-9d1961557fdc"
      },
      "execution_count": 17,
      "outputs": [
        {
          "output_type": "stream",
          "name": "stdout",
          "text": [
            "Epoch 1/5\n",
            "47/47 [==============================] - 9s 188ms/step - loss: 2.9540 - accuracy: 0.6447 - val_loss: 1.3002 - val_accuracy: 0.6040\n",
            "Epoch 2/5\n",
            "47/47 [==============================] - 9s 183ms/step - loss: 0.7263 - accuracy: 0.7313 - val_loss: 0.4988 - val_accuracy: 0.7540\n",
            "Epoch 3/5\n",
            "47/47 [==============================] - 8s 181ms/step - loss: 0.7465 - accuracy: 0.7300 - val_loss: 1.6593 - val_accuracy: 0.5840\n",
            "Epoch 4/5\n",
            "47/47 [==============================] - 9s 188ms/step - loss: 1.3654 - accuracy: 0.7027 - val_loss: 1.3115 - val_accuracy: 0.7200\n",
            "Epoch 5/5\n",
            "47/47 [==============================] - 9s 197ms/step - loss: 0.8446 - accuracy: 0.7587 - val_loss: 0.7231 - val_accuracy: 0.7700\n"
          ]
        },
        {
          "output_type": "execute_result",
          "data": {
            "text/plain": [
              "<keras.callbacks.History at 0x7fd88aecb890>"
            ]
          },
          "metadata": {},
          "execution_count": 17
        }
      ]
    },
    {
      "cell_type": "code",
      "source": [
        "model_2.summary()"
      ],
      "metadata": {
        "colab": {
          "base_uri": "https://localhost:8080/"
        },
        "id": "mll8b7VlJHxu",
        "outputId": "2b5528c1-20e9-45ae-c2bd-c975ee6accb6"
      },
      "execution_count": 18,
      "outputs": [
        {
          "output_type": "stream",
          "name": "stdout",
          "text": [
            "Model: \"sequential_1\"\n",
            "_________________________________________________________________\n",
            " Layer (type)                Output Shape              Param #   \n",
            "=================================================================\n",
            " flatten_2 (Flatten)         (None, 150528)            0         \n",
            "                                                                 \n",
            " dense_3 (Dense)             (None, 4)                 602116    \n",
            "                                                                 \n",
            " dense_4 (Dense)             (None, 4)                 20        \n",
            "                                                                 \n",
            " dense_5 (Dense)             (None, 1)                 5         \n",
            "                                                                 \n",
            "=================================================================\n",
            "Total params: 602,141\n",
            "Trainable params: 602,141\n",
            "Non-trainable params: 0\n",
            "_________________________________________________________________\n"
          ]
        }
      ]
    },
    {
      "cell_type": "code",
      "source": [
        "602141/10591"
      ],
      "metadata": {
        "colab": {
          "base_uri": "https://localhost:8080/"
        },
        "id": "BUw9qxl_NGeh",
        "outputId": "02ebdc0c-8def-4119-cd47-03908d690c4f"
      },
      "execution_count": 20,
      "outputs": [
        {
          "output_type": "execute_result",
          "data": {
            "text/plain": [
              "56.85402700406005"
            ]
          },
          "metadata": {},
          "execution_count": 20
        }
      ]
    },
    {
      "cell_type": "markdown",
      "source": [
        "After watching the trainable parameter of the model_2, it is clear that instead of having 57x more trainable parameters, our model_2 still is less accurate than our first CNN model.\n",
        "\n",
        "* The reason behind this is that our deep neural model is versatile model, which means that if something has a features to find, it can definately find it.\n",
        "\n",
        "* Anything that can have patterns to find, a neural network model can find out those patterns.\n",
        "\n",
        "But instead of that we can also see the power of cnn model espacially agains the computer vision or image dataset."
      ],
      "metadata": {
        "id": "LG7Yg7znJf0u"
      }
    },
    {
      "cell_type": "code",
      "source": [],
      "metadata": {
        "id": "kb3GTb-nOEZe"
      },
      "execution_count": null,
      "outputs": []
    }
  ]
}